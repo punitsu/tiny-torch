{
 "cells": [
  {
   "cell_type": "markdown",
   "metadata": {},
   "source": []
  },
  {
   "cell_type": "code",
   "execution_count": 1,
   "metadata": {},
   "outputs": [
    {
     "ename": "ImportError",
     "evalue": "cannot import name 'Value' from 'tinytorch' (c:\\Users\\BUCKWILD\\Desktop\\tiny-torch\\tinytorch\\__init__.py)",
     "output_type": "error",
     "traceback": [
      "\u001b[1;31m---------------------------------------------------------------------------\u001b[0m",
      "\u001b[1;31mImportError\u001b[0m                               Traceback (most recent call last)",
      "Cell \u001b[1;32mIn[1], line 1\u001b[0m\n\u001b[1;32m----> 1\u001b[0m \u001b[39mfrom\u001b[39;00m \u001b[39mtinytorch\u001b[39;00m \u001b[39mimport\u001b[39;00m Value\n",
      "\u001b[1;31mImportError\u001b[0m: cannot import name 'Value' from 'tinytorch' (c:\\Users\\BUCKWILD\\Desktop\\tiny-torch\\tinytorch\\__init__.py)"
     ]
    }
   ],
   "source": [
    "from tinytorch import Value"
   ]
  },
  {
   "cell_type": "code",
   "execution_count": null,
   "metadata": {},
   "outputs": [],
   "source": []
  }
 ],
 "metadata": {
  "kernelspec": {
   "display_name": "Python 3.9.15 ('voice-clone')",
   "language": "python",
   "name": "python3"
  },
  "language_info": {
   "codemirror_mode": {
    "name": "ipython",
    "version": 3
   },
   "file_extension": ".py",
   "mimetype": "text/x-python",
   "name": "python",
   "nbconvert_exporter": "python",
   "pygments_lexer": "ipython3",
   "version": "3.9.15"
  },
  "orig_nbformat": 4,
  "vscode": {
   "interpreter": {
    "hash": "ebc7f5e864c4f0d8acb21688cb0d75ac8fb152716a16f4c5678dcff51eeb782d"
   }
  }
 },
 "nbformat": 4,
 "nbformat_minor": 2
}
